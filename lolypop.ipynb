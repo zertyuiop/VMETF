{
 "cells": [
  {
   "cell_type": "code",
   "execution_count": 7,
   "metadata": {},
   "outputs": [],
   "source": [
    "from math import sqrt\n",
    "import matplotlib.pyplot as plt\n"
   ]
  },
  {
   "cell_type": "code",
   "execution_count": 29,
   "metadata": {},
   "outputs": [
    {
     "name": "stdout",
     "output_type": "stream",
     "text": [
      "h = 1e-05\n"
     ]
    }
   ],
   "source": [
    "cap1=1000 #теплоемкость тела\n",
    "cap2=500\n",
    "rho1=10**3 #плотность тела\n",
    "rho2=8*10**3\n",
    "k1=0.1 #коэффициент теплопроводности\n",
    "sigma=5.67e-8 #константа Стефана-Больцмана\n",
    "\n",
    "k2=10\n",
    "q0=10**7\n",
    "t=10**6\n",
    "a0=0.001\n",
    "b0=0.0005\n",
    "N=100\n",
    "h=(a0-0)/N\n",
    "print('h =',h)\n",
    "dt=10\n",
    "Nt=int(t/dt)\n",
    "eps=10e-10\n",
    "Tc=293\n"
   ]
  },
  {
   "cell_type": "code",
   "execution_count": 30,
   "metadata": {},
   "outputs": [],
   "source": [
    "\n",
    "def T0(r):\n",
    "    return 310.75 if r<=b0 else 100\n",
    "def cap(r):\n",
    "    return cap1 if r<=b0 else cap2\n",
    "def rho(r):\n",
    "    return rho1 if r<=b0 else rho2\n",
    "def k(r):\n",
    "    return k1 if r<=b0 else k2\n",
    "def q(r):\n",
    "    return q0 if r<=b0 else 0\n"
   ]
  },
  {
   "cell_type": "code",
   "execution_count": 34,
   "metadata": {},
   "outputs": [
    {
     "name": "stdout",
     "output_type": "stream",
     "text": [
      "T(0) = 310.99750000155524 T(a) = 298.0000000015202\n",
      "311.00250000155523 298.0050000015217\n",
      "311.00250000155523 297.9975000015194\n",
      "T(b) = 308.00250000155614\n",
      "Tmax = 311.00250000155523 Tmin = 297.9975000015194\n"
     ]
    },
    {
     "data": {
      "image/png": "[encoded data removed]",
      "text/plain": [
       "<Figure size 432x288 with 1 Axes>"
      ]
     },
     "metadata": {
      "needs_background": "light"
     },
     "output_type": "display_data"
    }
   ],
   "source": [
    "def razn():\n",
    "    r = [(i - 1) * h / 2 for i in range(2 * N + 5)]\n",
    "    r_new=r[::2]\n",
    "    \n",
    "    temp=[10 for i in range(len(r_new))]\n",
    "    for j in range(len(temp)):\n",
    "        temp[j] = T0(r_new[j])  \n",
    "\n",
    "    temp_new = [10 for i in range(len(r_new))]\n",
    "    f = [0 for i in range(len(temp))]\n",
    "    a = [0 for i in range(len(f))]\n",
    "    c = [0 for i in range(len(f))]\n",
    "    b = [0 for i in range(len(f))]\n",
    "    f1 = [0 for i in range(len(temp))]\n",
    "    a1 = [0 for i in range(len(f))]\n",
    "    c1 = [0 for i in range(len(f))]\n",
    "    b1 = [0 for i in range(len(f))]\n",
    "\n",
    "    l = len(f)\n",
    "    alpha = [0 for i in range(l)]\n",
    "    beta = [0 for i in range(l)]\n",
    "\n",
    "    for m in range(Nt*2):\n",
    "        for i in range(len(temp)):\n",
    "            temp[i] = temp_new[i]\n",
    "        for i in range(len(temp)):\n",
    "            if i==0:\n",
    "                f[i]=0; a[i]=0; c[i]=1; b[i]=-1\n",
    "            elif i==len(temp)-1:\n",
    "                f[i]=293000\n",
    "                a[i]=-999500; c[i]=1000500; b[i]=0\n",
    "            else:\n",
    "              \n",
    "                f[i] = q(r_new[i])- temp[i] * (-cap(r_new[i]) * rho(r_new[i])) / dt\n",
    "                a[i]=-k(r_new[i]-0.5*h) / h ** 2\n",
    "                c[i]=cap(r_new[i]) * rho(r_new[i]) / dt + (k(r_new[i]+0.5*h) + k(r_new[i]-0.5*h))/h**2\n",
    "                b[i]=-k(r_new[i]+0.5*h) / h ** 2\n",
    "\n",
    "        c1[0]=c[0]\n",
    "        f1[0] = f[0]\n",
    "        for i in range(1,l):\n",
    "            c1[i]=c[i]-a[i]*b[i-1]/c1[i-1]\n",
    "            f1[i]=f[i]-a[i]*f1[i-1]/c1[i-1]\n",
    "        temp_new[l - 1] = f1[l - 1] / c1[l - 1]\n",
    "        for i in reversed(range(l-1)):\n",
    "            temp_new[i]=(f1[i]-b[i]*temp_new[i+1])/c1[i]\n",
    "\n",
    "    print('T(0) =',0.5*(temp_new[1]+temp_new[2]),'T(a) =',0.5*(temp_new[N+2]+temp_new[N+1]))\n",
    "    print(0.5 * (temp_new[1] + temp_new[0]), 0.5 * (temp_new[N ] + temp_new[N + 1]))\n",
    "    print(temp_new[0],temp_new[N+2])\n",
    "    print('T(b) =',temp_new[int(N/4)])\n",
    "    print('Tmax =', max(temp_new), 'Tmin =', min(temp_new))\n",
    "    \n",
    "    plt.title('Shema Raznostnaya')\n",
    "    plt.grid(True)\n",
    "    plt.xlabel(u'x, м')\n",
    "    plt.ylabel(u'T, K')\n",
    "\n",
    "    plt.plot(r_new,temp_new, label='Temperature')\n",
    "    plt.show()\n",
    "\n",
    "razn()"
   ]
  },
  {
   "cell_type": "code",
   "execution_count": 32,
   "metadata": {},
   "outputs": [
    {
     "name": "stdout",
     "output_type": "stream",
     "text": [
      "T(0) = 310.9975000004649 T(a) = 298.0000000507224\n",
      "311.00250000046555 298.0050000068711\n",
      "311.00250000046555 297.99750005069706\n",
      "T(b) = 298.7524999976982\n",
      "Tmax = 311.00250000046555 Tmin = 297.99750005069706\n"
     ]
    },
    {
     "data": {
      "image/png": "[encoded data removed]",
      "text/plain": [
       "<Figure size 432x288 with 1 Axes>"
      ]
     },
     "metadata": {
      "needs_background": "light"
     },
     "output_type": "display_data"
    }
   ],
   "source": [
    "def KN():\n",
    "    r = [(i - 1) * h / 2 for i in range(2 * N + 5)]\n",
    "    r_new=r[::2]\n",
    "    \n",
    "    temp=[10 for i in range(len(r_new))]\n",
    "    for j in range(len(temp)):\n",
    "        temp[j] = T0(r_new[j])  \n",
    "\n",
    "    temp_new = [10 for i in range(len(r_new))]\n",
    "    f = [0 for i in range(len(temp))]\n",
    "    a = [0 for i in range(len(f))]\n",
    "    c = [0 for i in range(len(f))]\n",
    "    b = [0 for i in range(len(f))]\n",
    "    f1 = [0 for i in range(len(temp))]\n",
    "    a1 = [0 for i in range(len(f))]\n",
    "    c1 = [0 for i in range(len(f))]\n",
    "    b1 = [0 for i in range(len(f))]\n",
    "\n",
    "    l = len(f)\n",
    "    alpha = [0 for i in range(l)]\n",
    "    beta = [0 for i in range(l)]\n",
    "\n",
    "    for m in range(Nt*2):\n",
    "        for i in range(len(temp)):\n",
    "            temp[i] = temp_new[i]\n",
    "        for i in range(len(temp)):\n",
    "            if i==0:\n",
    "                f[i]=0; a[i]=0; c[i]=1; b[i]=-1\n",
    "            elif i==len(temp)-1:\n",
    "                f[i]=293000\n",
    "                a[i]=-999500; c[i]=1000500; b[i]=0\n",
    "            else:\n",
    "              \n",
    "                f[i] = q(r_new[i])  + temp[i + 1] * 0.5 * k(r_new[i]+0.5*h) / h ** 2 - temp[i] * (-cap(r_new[i]) * rho(r_new[i]) / dt + 0.5 / h ** 2 * (k(r_new[i]+0.5*h) +  k(r_new[i]-0.5*h))) + temp[i - 1] * 0.5 * k(r_new[i]-0.5*h) / h ** 2\n",
    "                a[i]=-0.5 * k(r_new[i]-0.5*h) / h ** 2\n",
    "                c[i]=cap(r_new[i]) * rho(r_new[i]) / dt + 0.5  / h ** 2 * (k(r_new[i]+0.5*h) + k(r_new[i]-0.5*h))\n",
    "                b[i]=-0.5 * k(r_new[i]+0.5*h) / h ** 2\n",
    "\n",
    "        c1[0]=c[0]\n",
    "        f1[0] = f[0]\n",
    "        for i in range(1,l):\n",
    "            c1[i]=c[i]-a[i]*b[i-1]/c1[i-1]\n",
    "            f1[i]=f[i]-a[i]*f1[i-1]/c1[i-1]\n",
    "        temp_new[l - 1] = f1[l - 1] / c1[l - 1]\n",
    "        for i in reversed(range(l-1)):\n",
    "            temp_new[i]=(f1[i]-b[i]*temp_new[i+1])/c1[i]\n",
    "\n",
    "    print('T(0) =',0.5*(temp_new[1]+temp_new[2]),'T(a) =',0.5*(temp_new[N+2]+temp_new[N+1]))\n",
    "    print(0.5 * (temp_new[1] + temp_new[0]), 0.5 * (temp_new[N ] + temp_new[N + 1]))\n",
    "    print(temp_new[0],temp_new[N+2])\n",
    "    print('T(b) =',temp_new[int(N/2)])\n",
    "    print('Tmax =', max(temp_new), 'Tmin =', min(temp_new))\n",
    "    \n",
    "    plt.title('Shema Kranka-Nikolsona')\n",
    "    plt.grid(True)\n",
    "    plt.xlabel(u'x, м')\n",
    "    plt.ylabel(u'T, K')\n",
    "\n",
    "    plt.plot(r_new,temp_new, label='Temperature')\n",
    "    plt.show()\n",
    "\n",
    "KN()"
   ]
  },
  {
   "cell_type": "code",
   "execution_count": 33,
   "metadata": {},
   "outputs": [
    {
     "name": "stdout",
     "output_type": "stream",
     "text": [
      "T(0) = 310.74375 T(a) = 297.995\n",
      "310.74875 298.0\n",
      "310.74875 297.9925\n",
      "T(b) = 298.49875\n",
      "Tmax = 310.74875 Tmin = 297.9925\n"
     ]
    },
    {
     "data": {
      "image/png": "[encoded data removed]",
      "text/plain": [
       "<Figure size 432x288 with 1 Axes>"
      ]
     },
     "metadata": {
      "needs_background": "light"
     },
     "output_type": "display_data"
    }
   ],
   "source": [
    "def tochnoe():\n",
    "    r = [(i - 1) * h / 2 for i in range(2*N + 5)]\n",
    "    r_new=r[::2]\n",
    "    temp_new =[299.375 for i in range(len(r_new))]\n",
    "    for i in range(len(r_new)):\n",
    "        if i<=N/2:\n",
    "            temp_new[i]=310.75-0.5*10**8*r_new[i]**2\n",
    "        else:\n",
    "            temp_new[i]=298.5-500*r_new[i]\n",
    "\n",
    "\n",
    "    print('T(0) =',0.5*(temp_new[1]+temp_new[2]),'T(a) =',0.5*(temp_new[N+2]+temp_new[N+1]))\n",
    "    print(0.5 * (temp_new[1] + temp_new[0]), 0.5 * (temp_new[N ] + temp_new[N + 1]))\n",
    "    print(temp_new[0],temp_new[N+2])\n",
    "    print('T(b) =',temp_new[int(N/2)])\n",
    "    print('Tmax =', max(temp_new), 'Tmin =', min(temp_new))\n",
    "    \n",
    "    plt.title('tochnoe')\n",
    "    plt.grid(True)\n",
    "    plt.xlabel(u'x, м')\n",
    "    plt.ylabel(u'T, K')\n",
    "\n",
    "    plt.plot(r_new,temp_new, label='Temperature')\n",
    "    plt.show()\n",
    "\n",
    "tochnoe()"
   ]
  },
  {
   "cell_type": "code",
   "execution_count": null,
   "metadata": {},
   "outputs": [],
   "source": []
  }
 ],
 "metadata": {
  "kernelspec": {
   "display_name": "Python 3",
   "language": "python",
   "name": "python3"
  },
  "language_info": {
   "codemirror_mode": {
    "name": "ipython",
    "version": 3
   },
   "file_extension": ".py",
   "mimetype": "text/x-python",
   "name": "python",
   "nbconvert_exporter": "python",
   "pygments_lexer": "ipython3",
   "version": "3.7.0"
  }
 },
 "nbformat": 4,
 "nbformat_minor": 2
}
